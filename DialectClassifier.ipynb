{
 "cells": [
  {
   "cell_type": "code",
   "execution_count": 1,
   "id": "b085a07e-5d9b-4f44-84da-e5350a59153a",
   "metadata": {},
   "outputs": [],
   "source": [
    "from img2vec_pytorch import Img2Vec\n",
    "import os\n",
    "import warnings\n",
    "from PIL import Image\n",
    "from sklearn.neural_network import MLPClassifier\n",
    "from sklearn.metrics import accuracy_score\n",
    "from sklearn.preprocessing import StandardScaler\n",
    "from sklearn.model_selection import GridSearchCV"
   ]
  },
  {
   "cell_type": "markdown",
   "id": "b5f4a4fb-aa69-46ef-8f14-0b66f4fb1765",
   "metadata": {},
   "source": [
    "<h2>Prepare Data</h2>"
   ]
  },
  {
   "cell_type": "code",
   "execution_count": 2,
   "id": "ed1dcd18-4893-4e60-b113-ae0bd4980a0a",
   "metadata": {},
   "outputs": [
    {
     "name": "stderr",
     "output_type": "stream",
     "text": [
      "C:\\Users\\aaron\\anaconda3\\lib\\site-packages\\torchvision\\models\\_utils.py:208: UserWarning: The parameter 'pretrained' is deprecated since 0.13 and may be removed in the future, please use 'weights' instead.\n",
      "  warnings.warn(\n",
      "C:\\Users\\aaron\\anaconda3\\lib\\site-packages\\torchvision\\models\\_utils.py:223: UserWarning: Arguments other than a weight enum or `None` for 'weights' are deprecated since 0.13 and may be removed in the future. The current behavior is equivalent to passing `weights=ResNet18_Weights.IMAGENET1K_V1`. You can also use `weights=ResNet18_Weights.DEFAULT` to get the most up-to-date weights.\n",
      "  warnings.warn(msg)\n"
     ]
    }
   ],
   "source": [
    "img2vec = Img2Vec()\n",
    "scaler = StandardScaler()  \n",
    "data_dir = \"./Spectrograms\"\n",
    "train_dir = os.path.join(data_dir, 'training')\n",
    "val_dir = os.path.join(data_dir, 'testing')\n",
    "\n",
    "data = {}\n",
    "for j, dir_ in enumerate([train_dir, val_dir]):\n",
    "    features = []\n",
    "    labels = []\n",
    "    for category in os.listdir(dir_):\n",
    "        for img_path in os.listdir(os.path.join(dir_, category)):\n",
    "            img_path_ = os.path.join(dir_, category, img_path)\n",
    "            img = Image.open(img_path_).convert('RGB')\n",
    "            img_features = img2vec.get_vec(img)\n",
    "            features.append(img_features)\n",
    "            labels.append(category)\n",
    "    data[['training_data', 'validation_data'][j]] = features\n",
    "    data[['training_labels', 'validation_labels'][j]] = labels\n",
    "scaler.fit(data['training_data'])\n",
    "data['training_data'] = scaler.transform(data['training_data'])"
   ]
  },
  {
   "cell_type": "markdown",
   "id": "2bdabe55-aaf7-488b-85bb-86eb8a6296ae",
   "metadata": {},
   "source": [
    "<h2>Train Model</h2>"
   ]
  },
  {
   "cell_type": "code",
   "execution_count": 3,
   "id": "f98071ed-37fc-4f37-8e8f-9f799c45aa64",
   "metadata": {},
   "outputs": [
    {
     "name": "stdout",
     "output_type": "stream",
     "text": [
      "{'activation': 'relu', 'alpha': 0.001, 'batch_size': 1, 'hidden_layer_sizes': (20,), 'learning_rate': 'invscaling', 'max_iter': 200, 'solver': 'adam'}\n",
      "0.8761904761904763\n"
     ]
    }
   ],
   "source": [
    "warnings.filterwarnings('ignore')\n",
    "#vvv look at hyper-parameters here when we get to tuning vvv\n",
    "#https://scikit-learn.org/stable/modules/generated/sklearn.neural_network.MLPClassifier.html#sklearn.neural_network.MLPClassifier\n",
    "parameters = {\n",
    "    'hidden_layer_sizes': [(10,), (20,), (10,5), (20,5), (2,5)],\n",
    "    'activation': ['relu'],\n",
    "    'solver': ['adam', 'lbfgs'],\n",
    "    'alpha': [0.001, 0.01, 0.0001, 0.0005],\n",
    "    'learning_rate': ['constant', 'invscaling', 'adaptive'],\n",
    "    'max_iter': [200, 300],\n",
    "    'batch_size': [1, 10, 20]\n",
    "}\n",
    "model = MLPClassifier()\n",
    "clf = GridSearchCV(model, parameters, cv = 10, scoring = \"accuracy\")\n",
    "clf.fit(data['training_data'], data['training_labels'])\n",
    "print(clf.best_params_)\n",
    "print(clf.best_score_)\n",
    "#{'activation': ['relu'], 'alpha': [0.001], 'batch_size': [1], 'hidden_layer_sizes': [(10,)], 'learning_rate': ['invscaling'], 'max_iter': [200], 'solver': ['adam']}\n",
    "#0.875"
   ]
  },
  {
   "cell_type": "markdown",
   "id": "9f75f575-4813-46c2-bbd7-aae302b05830",
   "metadata": {},
   "source": [
    "<h2>Test Performance</h2>"
   ]
  },
  {
   "cell_type": "code",
   "execution_count": 4,
   "id": "1c9e06a0-eb74-4017-9fbc-5d07cfa8c65a",
   "metadata": {},
   "outputs": [
    {
     "name": "stdout",
     "output_type": "stream",
     "text": [
      "0.8235294117647058\n"
     ]
    }
   ],
   "source": [
    "y_pred = clf.predict(scaler.transform(data['validation_data']))\n",
    "score = accuracy_score(y_pred, data['validation_labels'])\n",
    "print(score)"
   ]
  },
  {
   "cell_type": "markdown",
   "id": "da308c36-9a7f-4639-8ed8-2586bd209ff2",
   "metadata": {},
   "source": [
    "<h2>Save Model</h2>"
   ]
  },
  {
   "cell_type": "code",
   "execution_count": 159,
   "id": "b6a31f99-a0c3-4fde-8702-d68f6063ab96",
   "metadata": {},
   "outputs": [],
   "source": [
    "#will do once model is trained properly"
   ]
  }
 ],
 "metadata": {
  "kernelspec": {
   "display_name": "Python 3 (ipykernel)",
   "language": "python",
   "name": "python3"
  },
  "language_info": {
   "codemirror_mode": {
    "name": "ipython",
    "version": 3
   },
   "file_extension": ".py",
   "mimetype": "text/x-python",
   "name": "python",
   "nbconvert_exporter": "python",
   "pygments_lexer": "ipython3",
   "version": "3.10.14"
  }
 },
 "nbformat": 4,
 "nbformat_minor": 5
}
